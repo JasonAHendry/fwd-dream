{
 "cells": [
  {
   "cell_type": "markdown",
   "metadata": {},
   "source": [
    "## developing infinite alleles\n",
    "\n",
    "- re-write each function\n",
    "- write a test suite for each function"
   ]
  },
  {
   "cell_type": "code",
   "execution_count": 92,
   "metadata": {},
   "outputs": [
    {
     "name": "stderr",
     "output_type": "stream",
     "text": [
      "UsageError: Line magic function `%matplotline` not found.\n"
     ]
    }
   ],
   "source": [
    "import os\n",
    "import sys\n",
    "\n",
    "import numpy as np\n",
    "import pandas as pd\n",
    "import random\n",
    "\n",
    "import allel\n",
    "\n",
    "from lib.sequencing import *\n",
    "\n",
    "import matplotlib.pyplot as plt\n",
    "import seaborn as sns\n",
    "%matplotline line"
   ]
  },
  {
   "cell_type": "markdown",
   "metadata": {},
   "source": [
    "## new mutation function"
   ]
  },
  {
   "cell_type": "code",
   "execution_count": 2,
   "metadata": {},
   "outputs": [],
   "source": [
    "def evolve_host(hh, ti, theta=0.0, drift_rate=0.0, nsnps=0, back_mutation=False):\n",
    "    \"\"\"\n",
    "    Evolve the parasite genomes of a host forward `ti` days,\n",
    "    simulating drift and mutation, and optionally\n",
    "    allowing for back mutation\n",
    "    \n",
    "    Implements a continuous-time Moran model with\n",
    "    mutation\n",
    "\n",
    "    Parameters\n",
    "        hh: ndarray, shape (npv, nsnps)\n",
    "            Array containing parasite genomes for single host.\n",
    "        ti: float|\n",
    "            Amount of time to simulate forward, measured in days.\n",
    "            I.e. difference between present time and last update.\n",
    "        theta: float\n",
    "            Mutation probability per base per drift event.\n",
    "        drift_rate: float\n",
    "            Expected number of drift events per day.\n",
    "        nsnps: int\n",
    "            Number of SNPs per parasite genome.\n",
    "        back_mutation: bool\n",
    "            Allow for back mutation?\n",
    "    Returns\n",
    "        hh: ndarray, shape (npv, nsnps)\n",
    "            Array containing parasite genomes for a single genome,\n",
    "            after evolving.\n",
    "    \"\"\"\n",
    "    \n",
    "    nreps = np.random.poisson(ti * drift_rate)  # number of reproductions\n",
    "    if nreps > 0:\n",
    "        # Prepare\n",
    "        s = np.random.choice(len(hh), size=(nreps, 2))  # strains \n",
    "        m = np.random.uniform(size=nreps) < theta * nsnps  # mutations\n",
    "        m_ix = np.random.choice(nsnps, m.sum())  # mutation sites\n",
    "        # Sequentially run through events\n",
    "        j = 0\n",
    "        for i in np.arange(nreps):\n",
    "            if m[i]:  # mutation\n",
    "                if back_mutation:\n",
    "                    hh[s[i, 0], m_ix[j]] = 3 - hh[s[i, 0], m_ix[j]]\n",
    "                else:\n",
    "                    hh[s[i, 0], m_ix[j]] = 2\n",
    "                j += 1\n",
    "            else:  # drift\n",
    "                hh[s[i, 1]] = hh[s[i, 0]]\n",
    "    \n",
    "    return hh"
   ]
  },
  {
   "cell_type": "markdown",
   "metadata": {},
   "source": [
    "### diagnostics\n",
    "- The key conclusion is that `random` is faster for individual calls, and `np` is faster if you want to do many calls"
   ]
  },
  {
   "cell_type": "code",
   "execution_count": 39,
   "metadata": {},
   "outputs": [
    {
     "name": "stdout",
     "output_type": "stream",
     "text": [
      "57.2 ns ± 1.19 ns per loop (mean ± std. dev. of 7 runs, 10000000 loops each)\n"
     ]
    }
   ],
   "source": [
    "%timeit random.random()"
   ]
  },
  {
   "cell_type": "code",
   "execution_count": 40,
   "metadata": {},
   "outputs": [
    {
     "name": "stdout",
     "output_type": "stream",
     "text": [
      "1.58 µs ± 14.7 ns per loop (mean ± std. dev. of 7 runs, 1000000 loops each)\n"
     ]
    }
   ],
   "source": [
    "%timeit np.random.uniform()"
   ]
  },
  {
   "cell_type": "code",
   "execution_count": 41,
   "metadata": {},
   "outputs": [
    {
     "data": {
      "text/plain": [
       "27.622377622377616"
      ]
     },
     "execution_count": 41,
     "metadata": {},
     "output_type": "execute_result"
    }
   ],
   "source": [
    "(1.58*10**-6)/(57.2*10**-9)"
   ]
  },
  {
   "cell_type": "code",
   "execution_count": 61,
   "metadata": {},
   "outputs": [
    {
     "name": "stdout",
     "output_type": "stream",
     "text": [
      "2.56 µs ± 46.6 ns per loop (mean ± std. dev. of 7 runs, 100000 loops each)\n"
     ]
    }
   ],
   "source": [
    "%timeit np.random.uniform(0, 1, 10)"
   ]
  },
  {
   "cell_type": "code",
   "execution_count": 62,
   "metadata": {},
   "outputs": [
    {
     "name": "stdout",
     "output_type": "stream",
     "text": [
      "1.1 µs ± 11.3 ns per loop (mean ± std. dev. of 7 runs, 1000000 loops each)\n"
     ]
    }
   ],
   "source": [
    "%timeit [random.random() for _ in range(10)]"
   ]
  },
  {
   "cell_type": "markdown",
   "metadata": {},
   "source": [
    "### introduce infinite alleles mutation"
   ]
  },
  {
   "cell_type": "code",
   "execution_count": 63,
   "metadata": {},
   "outputs": [],
   "source": [
    "def evolve_host_infty(hh, ti, theta=0.0, drift_rate=0.0, nsnps=0, back_mutation=False):\n",
    "    \"\"\"\n",
    "    Evolve the parasite genomes of a host forward `ti` days,\n",
    "    simulating drift and mutation, and optionally\n",
    "    allowing for back mutation\n",
    "    \n",
    "    Implements a continuous-time Moran model with\n",
    "    mutation\n",
    "\n",
    "    Parameters\n",
    "        hh: ndarray, shape (npv, nsnps)\n",
    "            Array containing parasite genomes for single host.\n",
    "        ti: float\n",
    "            Amount of time to simulate forward, measured in days.\n",
    "            I.e. difference between present time and last update.\n",
    "        theta: float\n",
    "            Mutation probability per base per drift event.\n",
    "        drift_rate: float\n",
    "            Expected number of drift events per day.\n",
    "        nsnps: int\n",
    "            Number of SNPs per parasite genome.\n",
    "        back_mutation: bool\n",
    "            Allow for back mutation?\n",
    "    Returns\n",
    "        hh: ndarray, shape (npv, nsnps)\n",
    "            Array containing parasite genomes for a single genome,\n",
    "            after evolving.\n",
    "    \"\"\"\n",
    "    \n",
    "    nreps = np.random.poisson(ti * drift_rate)  # number of reproductions\n",
    "    if nreps > 0:\n",
    "        # Prepare\n",
    "        s = np.random.choice(len(hh), size=(nreps, 2))  # select strains\n",
    "        m = np.random.uniform(size=nreps) < theta * nsnps  # mutate?\n",
    "        n_m = m.sum()\n",
    "        m_ix = np.random.choice(nsnps, n_m)  # if so, what site\n",
    "        m_allele = np.random.uniform(0, 1, n_m) # generate alleles\n",
    "        # Sequentially run through events\n",
    "        j = 0\n",
    "        for i in np.arange(nreps):\n",
    "            if m[i]:  # mutation\n",
    "                hh[s[i, 0], m_ix[j]] = m_allele[j]\n",
    "                j += 1\n",
    "            else:  # drift\n",
    "                hh[s[i, 1]] = hh[s[i, 0]]\n",
    "    \n",
    "    return hh"
   ]
  },
  {
   "cell_type": "code",
   "execution_count": 207,
   "metadata": {},
   "outputs": [],
   "source": [
    "def evolve_host_infinite_alleles(hh, ti, theta, drift_rate, nsnps):\n",
    "    \"\"\"\n",
    "    Evolve a host genome using the infinite alleles model\n",
    "    \"\"\"\n",
    "    nreps = np.random.poisson(ti * drift_rate)  # number of reproductions\n",
    "    \n",
    "    if nreps > 0:\n",
    "        # For each reproduction...\n",
    "        selected = np.random.choice(len(hh), size=(nreps, 2))  # select strains\n",
    "        mutations = np.random.uniform(size=nreps) < theta * nsnps  # determine if mutation\n",
    "        n_mutations = mutations.sum()\n",
    "        mutation_position = np.random.choice(nsnps, n_mutations)  # select mutation position\n",
    "        mutation_allele = np.random.uniform(0, 1, n_mutations)  # generate mutation allele\n",
    "        \n",
    "        # Sequentially simulate reproductions\n",
    "        j = 0\n",
    "        for i, mutation in enumerate(mutations):\n",
    "            if mutation:\n",
    "                hh[selected[i, 0], mutation_position[j]] = mutation_allele[j]\n",
    "                j += 1\n",
    "            else:  # drift\n",
    "                hh[selected[i, 1]] = hh[selected[i, 0]]\n",
    "        \n",
    "        return hh"
   ]
  },
  {
   "cell_type": "code",
   "execution_count": 324,
   "metadata": {},
   "outputs": [],
   "source": [
    "drift_h = 1.0\n",
    "theta_h = 0.0002\n",
    "nsnps = 1000"
   ]
  },
  {
   "cell_type": "code",
   "execution_count": 232,
   "metadata": {},
   "outputs": [
    {
     "data": {
      "text/plain": [
       "array([[0.80101321, 0.55240734, 0.        , ..., 0.52379288, 0.82107478,\n",
       "        0.2729045 ],\n",
       "       [0.80101321, 0.55240734, 0.        , ..., 0.52379288, 0.82107478,\n",
       "        0.2729045 ],\n",
       "       [0.80101321, 0.55240734, 0.        , ..., 0.52379288, 0.82107478,\n",
       "        0.2729045 ],\n",
       "       ...,\n",
       "       [0.80101321, 0.55240734, 0.        , ..., 0.52379288, 0.82107478,\n",
       "        0.2729045 ],\n",
       "       [0.80101321, 0.55240734, 0.        , ..., 0.52379288, 0.82107478,\n",
       "        0.2729045 ],\n",
       "       [0.80101321, 0.55240734, 0.        , ..., 0.52379288, 0.82107478,\n",
       "        0.2729045 ]])"
      ]
     },
     "execution_count": 232,
     "metadata": {},
     "output_type": "execute_result"
    }
   ],
   "source": [
    "hh = np.zeros((10, 1000))\n",
    "hh = evolve_host_infinite_alleles(hh, ti=10**5, theta=theta_h, drift_rate=drift_h, nsnps=nsnps)\n",
    "hh"
   ]
  },
  {
   "cell_type": "code",
   "execution_count": 213,
   "metadata": {},
   "outputs": [
    {
     "name": "stdout",
     "output_type": "stream",
     "text": [
      "1 ms ± 13.1 µs per loop (mean ± std. dev. of 7 runs, 1000 loops each)\n"
     ]
    }
   ],
   "source": [
    "%timeit evolve_host(hh, ti=10**3, theta=theta_h, drift_rate=drift_h, nsnps=nsnps)"
   ]
  },
  {
   "cell_type": "code",
   "execution_count": 211,
   "metadata": {},
   "outputs": [
    {
     "name": "stdout",
     "output_type": "stream",
     "text": [
      "1.02 ms ± 13.8 µs per loop (mean ± std. dev. of 7 runs, 1000 loops each)\n"
     ]
    }
   ],
   "source": [
    "%timeit evolve_host_infty(hh, ti=10**3, theta=theta_h, drift_rate=drift_h, nsnps=nsnps)"
   ]
  },
  {
   "cell_type": "code",
   "execution_count": 212,
   "metadata": {},
   "outputs": [
    {
     "name": "stdout",
     "output_type": "stream",
     "text": [
      "896 µs ± 3.65 µs per loop (mean ± std. dev. of 7 runs, 1000 loops each)\n"
     ]
    }
   ],
   "source": [
    "%timeit evolve_host_infinite_alleles(hh, ti=10**3, theta=theta_h, drift_rate=drift_h, nsnps=nsnps)"
   ]
  },
  {
   "cell_type": "markdown",
   "metadata": {},
   "source": [
    "#### Tests\n",
    "- Look at some of Jerome Kheller's models for what would be good as far as testing goes\n",
    "- Some ideas are:\n",
    "    - Confirm behaviour matches what is expected from Moran without mutation (fixation times)\n",
    "    - Confirm allele counts follows Ewen's Sampling Formula\n",
    "    - Confirm that as we increase the mutation rate, we get a proportional increase in the number of mutations"
   ]
  },
  {
   "cell_type": "markdown",
   "metadata": {},
   "source": [
    "## Computing genetic diversity statistics in the infinite alleles model"
   ]
  },
  {
   "cell_type": "markdown",
   "metadata": {},
   "source": [
    "### Sequence DNA\n",
    "- The first thing we need to do is \"extract genomes\"\n",
    "- These are the unique haplotypes present within the infection"
   ]
  },
  {
   "cell_type": "code",
   "execution_count": 229,
   "metadata": {},
   "outputs": [],
   "source": [
    "def sequence_dna_infinite_alleles(hh, nsnps, detection_threshold=None):\n",
    "    \"\"\"\n",
    "    Sequence parasite genomes within a single host\n",
    "    reporting `k`, the number of strains present\n",
    "    and `seqs`, the sequences themselves\n",
    "\n",
    "    Note that identical repeated parasite genomes are\n",
    "    reported only once by `sequence_dna()`\n",
    "\n",
    "    Parameters\n",
    "        hh: ndarray, shape (nph, nsnps)\n",
    "            Array containing parasite genomes for single host.\n",
    "        detection_threshold: None or float\n",
    "            A haplotype is only sequenced if > `detection_threshold`\n",
    "            of its sites are heterozygous, when compared to *all*\n",
    "            other collected genomes.\n",
    "\n",
    "    Returns\n",
    "        k: int\n",
    "            Number of unique parasite genomes within the\n",
    "            sequenced host.\n",
    "        seqs: ndarray, shape(k, nsnps)\n",
    "            Sequenced parasite genomes.\n",
    "    \"\"\"\n",
    "    seqs = np.vstack(list({tuple(row) for row in hh}))\n",
    "    k = seqs.shape[0]\n",
    "    if k > 1 and detection_threshold is not None:  # now we check for enough differences\n",
    "        keep_indxs = [0]\n",
    "        for j in np.arange(1, k):\n",
    "            ndiffs = (seqs[keep_indxs, :] != seqs[j]).sum(1)\n",
    "            if (ndiffs / nsnps >= detection_threshold).all():\n",
    "                keep_indxs.append(j)\n",
    "        seqs = seqs[keep_indxs]\n",
    "        k = seqs.shape[0]\n",
    "    return k, seqs"
   ]
  },
  {
   "cell_type": "code",
   "execution_count": 238,
   "metadata": {},
   "outputs": [],
   "source": [
    "k, seqs = sequence_dna_infinite_alleles(hh, nsnps)"
   ]
  },
  {
   "cell_type": "markdown",
   "metadata": {},
   "source": [
    "#### Tests\n",
    "- If they are all identical, return one\n",
    "- If all different, return ten\n",
    "- Test outputs to ensure sufficiently different as expected\n",
    "    - e.g. run a bunch of random sequences through and ensure they are always more different than the threshold\n",
    "- what about bad inputs?"
   ]
  },
  {
   "cell_type": "code",
   "execution_count": 246,
   "metadata": {},
   "outputs": [
    {
     "data": {
      "text/plain": [
       "array([0.991, 0.994, 0.991, 0.992])"
      ]
     },
     "execution_count": 246,
     "metadata": {},
     "output_type": "execute_result"
    }
   ],
   "source": [
    "(seqs[0, :] == seqs[1:, :]).sum(1) / nsnps"
   ]
  },
  {
   "cell_type": "markdown",
   "metadata": {},
   "source": [
    "### Compute the allele frequency spectrum\n",
    "- The fastest implementation will be a vectorised one\n",
    "- For now all I have is a loop\n",
    "- The input for this is a `haplotype` array, where the rows are snps and the columns are samples\n",
    "    - So we need to transpose the sequences"
   ]
  },
  {
   "cell_type": "code",
   "execution_count": 269,
   "metadata": {},
   "outputs": [
    {
     "data": {
      "text/plain": [
       "(1000, 5)"
      ]
     },
     "execution_count": 269,
     "metadata": {},
     "output_type": "execute_result"
    }
   ],
   "source": [
    "genomes = seqs.T\n",
    "genomes.shape"
   ]
  },
  {
   "cell_type": "code",
   "execution_count": 264,
   "metadata": {},
   "outputs": [],
   "source": [
    "def get_allele_counts(genomes):\n",
    "    \"\"\"\n",
    "    Generate an allele count array\n",
    "    for a number of genomes\n",
    "    \"\"\"\n",
    "    nsnps, ngenomes = genomes.shape\n",
    "    ac = np.zeros((nsnps, ngenomes), 'int16')  # the maximum possible size\n",
    "    for i in np.arange(nsnps):\n",
    "        counts = np.unique(genomes[i], return_counts=True)[1]\n",
    "        n = len(counts)\n",
    "        ac[i, :n] = counts\n",
    "    ac = ac[:, ac.sum(0) > 0]  # remove columns with no alleles\n",
    "    return allel.AlleleCountsArray(ac)"
   ]
  },
  {
   "cell_type": "code",
   "execution_count": 265,
   "metadata": {},
   "outputs": [
    {
     "data": {
      "text/html": [
       "<div class=\"allel allel-DisplayAs2D\"><span>&lt;AlleleCountsArray shape=(1000, 2) dtype=int16&gt;</span><table><thead><tr><th></th><th style=\"text-align: center\">0</th><th style=\"text-align: center\">1</th></tr></thead><tbody><tr><th style=\"text-align: center; background-color: white; border-right: 1px solid black; \">0</th><td style=\"text-align: center\">5</td><td style=\"text-align: center\">0</td></tr><tr><th style=\"text-align: center; background-color: white; border-right: 1px solid black; \">1</th><td style=\"text-align: center\">5</td><td style=\"text-align: center\">0</td></tr><tr><th style=\"text-align: center; background-color: white; border-right: 1px solid black; \">2</th><td style=\"text-align: center\">5</td><td style=\"text-align: center\">0</td></tr><tr><th style=\"text-align: center; background-color: white; border-right: 1px solid black; \">...</th><td style=\"text-align: center\" colspan=\"3\">...</td></tr><tr><th style=\"text-align: center; background-color: white; border-right: 1px solid black; \">997</th><td style=\"text-align: center\">5</td><td style=\"text-align: center\">0</td></tr><tr><th style=\"text-align: center; background-color: white; border-right: 1px solid black; \">998</th><td style=\"text-align: center\">5</td><td style=\"text-align: center\">0</td></tr><tr><th style=\"text-align: center; background-color: white; border-right: 1px solid black; \">999</th><td style=\"text-align: center\">5</td><td style=\"text-align: center\">0</td></tr></tbody></table></div>"
      ],
      "text/plain": [
       "<AlleleCountsArray shape=(1000, 2) dtype=int16>\n",
       "5 0\n",
       "5 0\n",
       "5 0\n",
       "...\n",
       "5 0\n",
       "5 0\n",
       "5 0"
      ]
     },
     "execution_count": 265,
     "metadata": {},
     "output_type": "execute_result"
    }
   ],
   "source": [
    "ac = get_allele_counts(genomes)\n",
    "ac"
   ]
  },
  {
   "cell_type": "code",
   "execution_count": 266,
   "metadata": {},
   "outputs": [
    {
     "name": "stdout",
     "output_type": "stream",
     "text": [
      "13.7 ms ± 217 µs per loop (mean ± std. dev. of 7 runs, 100 loops each)\n"
     ]
    }
   ],
   "source": [
    "%timeit get_allele_counts(genomes)"
   ]
  },
  {
   "cell_type": "markdown",
   "metadata": {},
   "source": [
    "#### Tests\n",
    "- Test an example where all the alleles are reference\n",
    "- Test an example with only one strain\n",
    "- Test an example with the *maximum* number of possible alleles\n",
    "- Test a small genome where you know the number of unique alleles in each row"
   ]
  },
  {
   "cell_type": "code",
   "execution_count": 270,
   "metadata": {},
   "outputs": [],
   "source": [
    "gs = np.array([[0, 0, 1], [0, 1, 2], [0, 0, 0]])"
   ]
  },
  {
   "cell_type": "code",
   "execution_count": 271,
   "metadata": {},
   "outputs": [
    {
     "data": {
      "text/html": [
       "<div class=\"allel allel-DisplayAs2D\"><span>&lt;AlleleCountsArray shape=(3, 3) dtype=int16&gt;</span><table><thead><tr><th></th><th style=\"text-align: center\">0</th><th style=\"text-align: center\">1</th><th style=\"text-align: center\">2</th></tr></thead><tbody><tr><th style=\"text-align: center; background-color: white; border-right: 1px solid black; \">0</th><td style=\"text-align: center\">2</td><td style=\"text-align: center\">1</td><td style=\"text-align: center\">0</td></tr><tr><th style=\"text-align: center; background-color: white; border-right: 1px solid black; \">1</th><td style=\"text-align: center\">1</td><td style=\"text-align: center\">1</td><td style=\"text-align: center\">1</td></tr><tr><th style=\"text-align: center; background-color: white; border-right: 1px solid black; \">2</th><td style=\"text-align: center\">3</td><td style=\"text-align: center\">0</td><td style=\"text-align: center\">0</td></tr></tbody></table></div>"
      ],
      "text/plain": [
       "<AlleleCountsArray shape=(3, 3) dtype=int16>\n",
       "2 1 0\n",
       "1 1 1\n",
       "3 0 0"
      ]
     },
     "execution_count": 271,
     "metadata": {},
     "output_type": "execute_result"
    }
   ],
   "source": [
    "get_allele_counts(gs)"
   ]
  },
  {
   "cell_type": "markdown",
   "metadata": {},
   "source": [
    "## Compute the classic genetic diversity statistics using `scikit-allel`\n",
    "- Need to think about what makes sense here for an infinite alleles model\n",
    "- Like, what do we mean by number of singletons?\n",
    "    - I would imagine we mean number of instances of alleles that occur only one time *in our sample*"
   ]
  },
  {
   "cell_type": "code",
   "execution_count": 316,
   "metadata": {},
   "outputs": [
    {
     "data": {
      "text/plain": [
       "array([ 1,  2,  3,  4,  5,  6,  7,  8,  9, 10])"
      ]
     },
     "execution_count": 316,
     "metadata": {},
     "output_type": "execute_result"
    }
   ],
   "source": [
    "# For this we need variant \"positions\"\n",
    "# For now, just contiguous array of integers\n",
    "pos = np.arange(nsnps) + 1\n",
    "pos[:10]"
   ]
  },
  {
   "cell_type": "code",
   "execution_count": 295,
   "metadata": {},
   "outputs": [
    {
     "name": "stdout",
     "output_type": "stream",
     "text": [
      "10\n"
     ]
    },
    {
     "data": {
      "text/plain": [
       "[135, 248, 295, 431, 539, 629, 638, 652, 670, 677]"
      ]
     },
     "execution_count": 295,
     "metadata": {},
     "output_type": "execute_result"
    }
   ],
   "source": [
    "u = [i for i, row in enumerate(genomes) if len(np.unique(row)) > 1]\n",
    "print(len(u))\n",
    "u"
   ]
  },
  {
   "cell_type": "code",
   "execution_count": 303,
   "metadata": {},
   "outputs": [
    {
     "data": {
      "text/html": [
       "<div class=\"allel allel-DisplayAs2D\"><span>&lt;AlleleCountsArray shape=(1000, 2) dtype=int16&gt;</span><table><thead><tr><th></th><th style=\"text-align: center\">0</th><th style=\"text-align: center\">1</th></tr></thead><tbody><tr><th style=\"text-align: center; background-color: white; border-right: 1px solid black; \">0</th><td style=\"text-align: center\">5</td><td style=\"text-align: center\">0</td></tr><tr><th style=\"text-align: center; background-color: white; border-right: 1px solid black; \">1</th><td style=\"text-align: center\">5</td><td style=\"text-align: center\">0</td></tr><tr><th style=\"text-align: center; background-color: white; border-right: 1px solid black; \">2</th><td style=\"text-align: center\">5</td><td style=\"text-align: center\">0</td></tr><tr><th style=\"text-align: center; background-color: white; border-right: 1px solid black; \">...</th><td style=\"text-align: center\" colspan=\"3\">...</td></tr><tr><th style=\"text-align: center; background-color: white; border-right: 1px solid black; \">997</th><td style=\"text-align: center\">5</td><td style=\"text-align: center\">0</td></tr><tr><th style=\"text-align: center; background-color: white; border-right: 1px solid black; \">998</th><td style=\"text-align: center\">5</td><td style=\"text-align: center\">0</td></tr><tr><th style=\"text-align: center; background-color: white; border-right: 1px solid black; \">999</th><td style=\"text-align: center\">5</td><td style=\"text-align: center\">0</td></tr></tbody></table></div>"
      ],
      "text/plain": [
       "<AlleleCountsArray shape=(1000, 2) dtype=int16>\n",
       "5 0\n",
       "5 0\n",
       "5 0\n",
       "...\n",
       "5 0\n",
       "5 0\n",
       "5 0"
      ]
     },
     "execution_count": 303,
     "metadata": {},
     "output_type": "execute_result"
    }
   ],
   "source": [
    "ac"
   ]
  },
  {
   "cell_type": "code",
   "execution_count": 301,
   "metadata": {},
   "outputs": [
    {
     "data": {
      "text/plain": [
       "array([[0.00597416, 0.00597416, 0.00597416, 0.00597416, 0.03525214],\n",
       "       [0.22090046, 0.92642778, 0.92642778, 0.92642778, 0.92642778],\n",
       "       [0.85995135, 0.97084456, 0.97084456, 0.97084456, 0.97084456],\n",
       "       [0.22074267, 0.22074267, 0.25949568, 0.25949568, 0.25949568],\n",
       "       [0.57741349, 0.57741349, 0.57741349, 0.74165632, 0.74165632],\n",
       "       [0.25381128, 0.6789414 , 0.6789414 , 0.6789414 , 0.6789414 ],\n",
       "       [0.0515016 , 0.0515016 , 0.0515016 , 0.0515016 , 0.64625313],\n",
       "       [0.44317385, 0.44317385, 0.44317385, 0.44317385, 0.93819445],\n",
       "       [0.        , 0.        , 0.        , 0.        , 0.88640432],\n",
       "       [0.17697397, 0.35769346, 0.35769346, 0.35769346, 0.35769346]])"
      ]
     },
     "execution_count": 301,
     "metadata": {},
     "output_type": "execute_result"
    }
   ],
   "source": [
    "genomes[u]"
   ]
  },
  {
   "cell_type": "code",
   "execution_count": 296,
   "metadata": {},
   "outputs": [
    {
     "data": {
      "text/plain": [
       "array([0.22090046, 0.92642778, 0.92642778, 0.92642778, 0.92642778])"
      ]
     },
     "execution_count": 296,
     "metadata": {},
     "output_type": "execute_result"
    }
   ],
   "source": [
    "genomes[248]"
   ]
  },
  {
   "cell_type": "code",
   "execution_count": 312,
   "metadata": {},
   "outputs": [
    {
     "name": "stdout",
     "output_type": "stream",
     "text": [
      "Variants: 10\n",
      "Singletons: 8\n",
      "Segregating: 10\n"
     ]
    }
   ],
   "source": [
    "# Number of variants (what is this?)\n",
    "n_variants = ac.count_variant()\n",
    "\n",
    "# Compute number of segregating sites\n",
    "n_segregating = ac.count_segregating()\n",
    "\n",
    "# Compute singletons\n",
    "n_singletons = (ac == 1).any(1).sum()\n",
    "print(\"Variants: %d\" % n_variants)\n",
    "print(\"Singletons: %d\" % n_singletons)\n",
    "print(\"Segregating: %d\" % n_segregating)"
   ]
  },
  {
   "cell_type": "code",
   "execution_count": 318,
   "metadata": {},
   "outputs": [],
   "source": [
    "pi = allel.stats.diversity.sequence_diversity(pos, ac)\n",
    "theta = allel.stats.diversity.watterson_theta(pos, ac)\n",
    "tajd = allel.stats.diversity.tajima_d(ac)  # <4 samples, throws warning (NOT exception)"
   ]
  },
  {
   "cell_type": "code",
   "execution_count": 322,
   "metadata": {},
   "outputs": [
    {
     "data": {
      "text/plain": [
       "0.0048000000000000004"
      ]
     },
     "execution_count": 322,
     "metadata": {},
     "output_type": "execute_result"
    }
   ],
   "source": [
    "theta  # recall, in this case we just have a neutral moran model, what do we expect here?"
   ]
  },
  {
   "cell_type": "code",
   "execution_count": 323,
   "metadata": {},
   "outputs": [
    {
     "data": {
      "text/plain": [
       "0.0048000000000000004"
      ]
     },
     "execution_count": 323,
     "metadata": {},
     "output_type": "execute_result"
    }
   ],
   "source": [
    "theta  # don't really understand what I should expect here"
   ]
  },
  {
   "cell_type": "code",
   "execution_count": 326,
   "metadata": {},
   "outputs": [
    {
     "data": {
      "text/plain": [
       "0.002"
      ]
     },
     "execution_count": 326,
     "metadata": {},
     "output_type": "execute_result"
    }
   ],
   "source": [
    "theta_h * 10"
   ]
  },
  {
   "cell_type": "code",
   "execution_count": 327,
   "metadata": {},
   "outputs": [],
   "source": [
    "# Number of variant sites doesn't make sense anymore"
   ]
  },
  {
   "cell_type": "code",
   "execution_count": 328,
   "metadata": {},
   "outputs": [],
   "source": [
    "def calc_diversity_stats_infinite_alleles(pos, ac, verbose=False):\n",
    "    \"\"\"\n",
    "    Calculate a suite of standard genetic diversity\n",
    "    statistics given SNP positions and allele counts,\n",
    "    for a set of parasite genomes\n",
    "\n",
    "    Parameters\n",
    "        ac: AlleleCountArray, shape (nsnps, 2)\n",
    "            Allele counts computed from `hap`.\n",
    "        pos: ndarray, shape (nsnps)\n",
    "            The position, as an integer, of each SNP\n",
    "            in the parasite genome.\n",
    "    Returns\n",
    "        div_stats: dict\n",
    "            Dictionary of genetic diversity statistics.\n",
    "    \"\"\"\n",
    "    _, n_allele_types = ac.shape\n",
    "    if n_allele_types == 1:  # population clonal, f(x)'s would fail\n",
    "        n_segregating = 0\n",
    "        n_singletons = 0\n",
    "        statement = \"  Sample is clonal.\"\n",
    "    else:\n",
    "        n_segregating = ac.count_segregating()\n",
    "        n_singletons = (ac == 1).any(1).sum()\n",
    "        statement = \"  Sample is not clonal.\"\n",
    "\n",
    "    pi = allel.stats.diversity.sequence_diversity(pos, ac)\n",
    "    theta = allel.stats.diversity.watterson_theta(pos, ac)\n",
    "    tajd = allel.stats.diversity.tajima_d(ac)  # <4 samples, throws warning (NOT exception)\n",
    "\n",
    "    if verbose:\n",
    "        print(\"Diversity Metrics\")\n",
    "        print(statement)\n",
    "        print(\"  No. Segregating Sites:\", n_segregating)\n",
    "        print(\"  No. Singletons:\", n_singletons)\n",
    "        print(\"  Nucleotide Diversity (pi):\", pi)\n",
    "        print(\"  Watterson's Theta:\", theta)\n",
    "        print(\"  Tajima's D:\", tajd)\n",
    "\n",
    "    div_stats = {\"n_segregating\": n_segregating,\n",
    "                 \"n_singletons\": n_singletons,\n",
    "                 \"pi\": pi,\n",
    "                 \"theta\": theta,\n",
    "                 \"tajd\": tajd}\n",
    "\n",
    "    return div_stats"
   ]
  },
  {
   "cell_type": "code",
   "execution_count": 330,
   "metadata": {},
   "outputs": [
    {
     "name": "stdout",
     "output_type": "stream",
     "text": [
      "Diversity Metrics\n",
      "  Sample is not clonal.\n",
      "  No. Segregating Sites: 10\n",
      "  No. Singletons: 8\n",
      "  Nucleotide Diversity (pi): 0.0044\n",
      "  Watterson's Theta: 0.0048000000000000004\n",
      "  Tajima's D: -0.5963326941320872\n"
     ]
    },
    {
     "data": {
      "text/plain": [
       "{'n_segregating': 10,\n",
       " 'n_singletons': 8,\n",
       " 'pi': 0.0044,\n",
       " 'theta': 0.0048000000000000004,\n",
       " 'tajd': -0.5963326941320872}"
      ]
     },
     "execution_count": 330,
     "metadata": {},
     "output_type": "execute_result"
    }
   ],
   "source": [
    "calc_diversity_stats_infinite_alleles(pos, ac, verbose=True)"
   ]
  },
  {
   "cell_type": "markdown",
   "metadata": {},
   "source": [
    "#### Tests\n",
    "- Well, basic tests that the functions are computing correctly\n",
    "- Throw clonal population, and a non-clonal population with known statistic values\n",
    "    - Including known number of segregating sites, known number of singletons, &c."
   ]
  },
  {
   "cell_type": "markdown",
   "metadata": {},
   "source": [
    "## Computing IBD statistics\n",
    "\n",
    "- Firstly, it would be good to improve the outputs here by computing:\n",
    "    - within-host IBD for mixed infections\n",
    "    - total-population IBD or between-host IBD"
   ]
  },
  {
   "cell_type": "code",
   "execution_count": 331,
   "metadata": {},
   "outputs": [],
   "source": [
    "import itertools"
   ]
  },
  {
   "cell_type": "code",
   "execution_count": 392,
   "metadata": {},
   "outputs": [
    {
     "name": "stdout",
     "output_type": "stream",
     "text": [
      "Object `itertools.groupby  # this was an option, but actually slower` not found.\n"
     ]
    }
   ],
   "source": [
    "?itertools.groupby  # this was an option, but actually slower"
   ]
  },
  {
   "cell_type": "code",
   "execution_count": 389,
   "metadata": {},
   "outputs": [],
   "source": [
    "def get_ibd_segments(ibd):\n",
    "    \"\"\"\n",
    "    Given a boolean vector specifying whether\n",
    "    each SNP position carries the same allele,\n",
    "    return an array of identity track lengths\n",
    "    \n",
    "    Parameters\n",
    "        ibd: ndarray, dtype bool, shape (nsnps)\n",
    "            For each position in the genome, are\n",
    "            the alleles identical?\n",
    "    Returns\n",
    "        segs: ndarray, dtype int, shape(n_segs)\n",
    "            Return the length of IBD segments.\n",
    "        \n",
    "    \n",
    "    \"\"\"\n",
    "    ll = []\n",
    "    l = 0\n",
    "    for state in ibd:\n",
    "        if state:\n",
    "            l += 1\n",
    "        else:\n",
    "            ll.append(l)\n",
    "            l = 0\n",
    "    ll.append(l)  # append last segment\n",
    "    segs = np.array(ll, np.uint16)  # always positive, won't be >65K SNPs\n",
    "\n",
    "    return segs[segs > 0]  # only return if positive length"
   ]
  },
  {
   "cell_type": "code",
   "execution_count": 380,
   "metadata": {},
   "outputs": [
    {
     "name": "stdout",
     "output_type": "stream",
     "text": [
      "41 µs ± 484 ns per loop (mean ± std. dev. of 7 runs, 10000 loops each)\n"
     ]
    }
   ],
   "source": [
    "%timeit get_ibd_segments_v3(ibd_state)"
   ]
  },
  {
   "cell_type": "code",
   "execution_count": 381,
   "metadata": {},
   "outputs": [
    {
     "name": "stdout",
     "output_type": "stream",
     "text": [
      "43.3 µs ± 470 ns per loop (mean ± std. dev. of 7 runs, 10000 loops each)\n"
     ]
    }
   ],
   "source": [
    "%timeit get_ibd_segments_v2(ibd_state)"
   ]
  },
  {
   "cell_type": "code",
   "execution_count": 382,
   "metadata": {},
   "outputs": [
    {
     "name": "stdout",
     "output_type": "stream",
     "text": [
      "46.7 µs ± 462 ns per loop (mean ± std. dev. of 7 runs, 10000 loops each)\n"
     ]
    }
   ],
   "source": [
    "%timeit get_ibd_segments(ibd_state)"
   ]
  },
  {
   "cell_type": "code",
   "execution_count": 352,
   "metadata": {},
   "outputs": [
    {
     "data": {
      "text/plain": [
       "[248, 46, 333, 47, 322]"
      ]
     },
     "execution_count": 352,
     "metadata": {},
     "output_type": "execute_result"
    }
   ],
   "source": [
    "get_ibd_segments_v2(ibd_state)"
   ]
  },
  {
   "cell_type": "code",
   "execution_count": 346,
   "metadata": {},
   "outputs": [],
   "source": [
    "def get_ibd_segments_v2(ibd):\n",
    "    return [sum(l) for state, l in itertools.groupby(ibd_state) if state]"
   ]
  },
  {
   "cell_type": "code",
   "execution_count": 373,
   "metadata": {},
   "outputs": [
    {
     "name": "stdout",
     "output_type": "stream",
     "text": [
      "105 µs ± 879 ns per loop (mean ± std. dev. of 7 runs, 10000 loops each)\n"
     ]
    }
   ],
   "source": [
    "%timeit get_ibd_segments(i)"
   ]
  },
  {
   "cell_type": "code",
   "execution_count": 349,
   "metadata": {},
   "outputs": [
    {
     "name": "stdout",
     "output_type": "stream",
     "text": [
      "1.67 ms ± 24.1 µs per loop (mean ± std. dev. of 7 runs, 1000 loops each)\n"
     ]
    }
   ],
   "source": [
    "%timeit get_ibd_segments_v2(ibd_state)"
   ]
  },
  {
   "cell_type": "code",
   "execution_count": 335,
   "metadata": {
    "scrolled": true
   },
   "outputs": [
    {
     "data": {
      "text/plain": [
       "[(0, 1), (0, 2), (0, 3), (1, 2), (1, 3), (2, 3)]"
      ]
     },
     "execution_count": 335,
     "metadata": {},
     "output_type": "execute_result"
    }
   ],
   "source": [
    "list(itertools.combinations(np.arange(4), 2))"
   ]
  },
  {
   "cell_type": "code",
   "execution_count": null,
   "metadata": {},
   "outputs": [],
   "source": [
    "def cis_v2(genomes):\n",
    "    n_genomes, nsnps = genomes.shape\n",
    "    "
   ]
  },
  {
   "cell_type": "code",
   "execution_count": 398,
   "metadata": {},
   "outputs": [
    {
     "data": {
      "text/plain": [
       "190.0"
      ]
     },
     "execution_count": 398,
     "metadata": {},
     "output_type": "execute_result"
    }
   ],
   "source": [
    "20 * 19 / 2"
   ]
  },
  {
   "cell_type": "code",
   "execution_count": 401,
   "metadata": {},
   "outputs": [
    {
     "name": "stdout",
     "output_type": "stream",
     "text": [
      "1.17 µs ± 15.1 ns per loop (mean ± std. dev. of 7 runs, 1000000 loops each)\n"
     ]
    }
   ],
   "source": [
    "%timeit itertools.combinations(range(190), 2)"
   ]
  },
  {
   "cell_type": "code",
   "execution_count": 402,
   "metadata": {},
   "outputs": [
    {
     "name": "stdout",
     "output_type": "stream",
     "text": [
      "12.1 µs ± 183 ns per loop (mean ± std. dev. of 7 runs, 100000 loops each)\n"
     ]
    }
   ],
   "source": [
    "%timeit itertools.combinations(np.arange(190), 2)"
   ]
  },
  {
   "cell_type": "code",
   "execution_count": 405,
   "metadata": {},
   "outputs": [
    {
     "ename": "AttributeError",
     "evalue": "'itertools.combinations' object has no attribute 'length'",
     "output_type": "error",
     "traceback": [
      "\u001b[0;31m---------------------------------------------------------------------------\u001b[0m",
      "\u001b[0;31mAttributeError\u001b[0m                            Traceback (most recent call last)",
      "\u001b[0;32m<ipython-input-405-ff8f6e202959>\u001b[0m in \u001b[0;36m<module>\u001b[0;34m\u001b[0m\n\u001b[0;32m----> 1\u001b[0;31m \u001b[0mitertools\u001b[0m\u001b[0;34m.\u001b[0m\u001b[0mcombinations\u001b[0m\u001b[0;34m(\u001b[0m\u001b[0mrange\u001b[0m\u001b[0;34m(\u001b[0m\u001b[0;36m190\u001b[0m\u001b[0;34m)\u001b[0m\u001b[0;34m,\u001b[0m \u001b[0;36m2\u001b[0m\u001b[0;34m)\u001b[0m\u001b[0;34m.\u001b[0m\u001b[0mlength\u001b[0m\u001b[0;34m\u001b[0m\u001b[0;34m\u001b[0m\u001b[0m\n\u001b[0m",
      "\u001b[0;31mAttributeError\u001b[0m: 'itertools.combinations' object has no attribute 'length'"
     ]
    }
   ],
   "source": [
    "itertools.combinations(range(190), 2)"
   ]
  },
  {
   "cell_type": "code",
   "execution_count": 415,
   "metadata": {},
   "outputs": [],
   "source": [
    "def calc_ibd_statistics_v2(genomes):\n",
    "    \"\"\"\n",
    "    For every pair of genomes collected, return\n",
    "    three IBD summary statistics: the IBD fraction,\n",
    "    the mean IBD track length, and the number of IBD\n",
    "    segments\n",
    "    \n",
    "    Parameters\n",
    "    \n",
    "    \n",
    "    Returns\n",
    "    \n",
    "    \"\"\"\n",
    "    nsnps, ngenomes = genomes.shape\n",
    "    \n",
    "    # Prepare storage\n",
    "    n_pairs = int(ngenomes * (ngenomes - 1) / 2)\n",
    "    f_ibd = np.zeros(n_pairs)\n",
    "    l_ibd = np.zeros(n_pairs)\n",
    "    n_ibd = np.zeros(n_pairs)\n",
    "    \n",
    "    # Loop over all pairs of genomes\n",
    "    pairs = itertools.combinations(range(ngenomes), 2)\n",
    "    for ix, (i, j) in enumerate(pairs):\n",
    "        \n",
    "        # Compute IBD state and segments\n",
    "        ibd_state = genomes[:, i] == genomes[:, j]\n",
    "        ibd_segments = get_ibd_segments(ibd_state)\n",
    "        \n",
    "        # Compute IBD summary statistics\n",
    "        f_ibd[ix] = ibd_state.sum()\n",
    "        n_ibd[ix] = ibd_segments.shape[0]\n",
    "        l_ibd[ix] = ibd_segments.mean()\n",
    "        \n",
    "    f_ibd /= nsnps\n",
    "    \n",
    "    return f_ibd, n_ibd, l_ibd"
   ]
  },
  {
   "cell_type": "code",
   "execution_count": 416,
   "metadata": {},
   "outputs": [],
   "source": [
    "def calc_ibd_statistics(genomes, nsnps):\n",
    "    \"\"\"\n",
    "    Return three IBD statistics,\n",
    "    i. The fraction IBD\n",
    "    ii. The mean IBD segement length\n",
    "    iii. The number of IBD segements\n",
    "    for every pair in a set of genomes\n",
    "    \"\"\"\n",
    "\n",
    "    n_genomes = genomes.shape[1]\n",
    "    n_pairs = int(n_genomes * (n_genomes - 1) / 2)\n",
    "    frac_ibd = np.zeros(n_pairs)\n",
    "    n_ibd = np.zeros(n_pairs)\n",
    "    l_ibd = np.zeros(n_pairs)\n",
    "\n",
    "    ix = 0\n",
    "    for i in np.arange(n_genomes - 1):\n",
    "        for j in np.arange(i + 1, n_genomes):\n",
    "            ibd_state = genomes[:, i] == genomes[:, j]\n",
    "            ibd_segments = get_ibd_segments(ibd_state)\n",
    "            frac_ibd[ix] = ibd_state.sum() / float(nsnps)\n",
    "            n_ibd[ix] = len(ibd_segments)\n",
    "            l_ibd[ix] = ibd_segments.mean()\n",
    "\n",
    "            ix += 1\n",
    "\n",
    "    return frac_ibd, n_ibd, l_ibd"
   ]
  },
  {
   "cell_type": "code",
   "execution_count": 417,
   "metadata": {},
   "outputs": [
    {
     "data": {
      "text/plain": [
       "(array([0.996, 0.995, 0.994, 0.99 , 0.999, 0.998, 0.994, 0.999, 0.995,\n",
       "        0.996]),\n",
       " array([ 5.,  6.,  7., 11.,  2.,  3.,  7.,  2.,  6.,  5.]),\n",
       " array([199.2       , 165.83333333, 142.        ,  90.        ,\n",
       "        499.5       , 332.66666667, 142.        , 499.5       ,\n",
       "        165.83333333, 199.2       ]))"
      ]
     },
     "execution_count": 417,
     "metadata": {},
     "output_type": "execute_result"
    }
   ],
   "source": [
    "calc_ibd_statistics(genomes, nsnps)"
   ]
  },
  {
   "cell_type": "code",
   "execution_count": 418,
   "metadata": {},
   "outputs": [
    {
     "data": {
      "text/plain": [
       "(array([0.996, 0.995, 0.994, 0.99 , 0.999, 0.998, 0.994, 0.999, 0.995,\n",
       "        0.996]),\n",
       " array([ 5.,  6.,  7., 11.,  2.,  3.,  7.,  2.,  6.,  5.]),\n",
       " array([199.2       , 165.83333333, 142.        ,  90.        ,\n",
       "        499.5       , 332.66666667, 142.        , 499.5       ,\n",
       "        165.83333333, 199.2       ]))"
      ]
     },
     "execution_count": 418,
     "metadata": {},
     "output_type": "execute_result"
    }
   ],
   "source": [
    "calc_ibd_statistics_v2(genomes)"
   ]
  },
  {
   "cell_type": "code",
   "execution_count": 428,
   "metadata": {},
   "outputs": [
    {
     "name": "stdout",
     "output_type": "stream",
     "text": [
      "11 ms ± 183 µs per loop (mean ± std. dev. of 7 runs, 100 loops each)\n"
     ]
    }
   ],
   "source": [
    "%timeit calc_ibd_statistics(gs, nsnps)"
   ]
  },
  {
   "cell_type": "code",
   "execution_count": 429,
   "metadata": {},
   "outputs": [
    {
     "name": "stdout",
     "output_type": "stream",
     "text": [
      "10.3 ms ± 75.2 µs per loop (mean ± std. dev. of 7 runs, 100 loops each)\n"
     ]
    }
   ],
   "source": [
    "%timeit calc_ibd_statistics_v2(gs)"
   ]
  },
  {
   "cell_type": "code",
   "execution_count": 425,
   "metadata": {},
   "outputs": [],
   "source": [
    "gs = np.hstack([genomes, genomes, genomes, genomes])"
   ]
  },
  {
   "cell_type": "markdown",
   "metadata": {},
   "source": [
    "- The new function is very marginally faster\n",
    "- Might as well keep because this function will be run thousands of times"
   ]
  },
  {
   "cell_type": "markdown",
   "metadata": {},
   "source": [
    "#### Tests\n",
    "- Obviously check those with no IBD or all IBD\n",
    "- Then check some examples with an exact amount of IBD\n",
    "- And different arbitrary patterns\n",
    "- Not really much else to test?"
   ]
  },
  {
   "cell_type": "markdown",
   "metadata": {},
   "source": [
    "## Collecting genomes\n",
    "- This is where I would want to include as output an array that indicates from which sample each genome came\n",
    "    - With such an array I can calculate within sample IBD levels\n",
    "    - Note that in cases where there are few mixed infections, these numbers will be noisy / undefined"
   ]
  },
  {
   "cell_type": "code",
   "execution_count": null,
   "metadata": {},
   "outputs": [],
   "source": []
  }
 ],
 "metadata": {
  "kernelspec": {
   "display_name": "Python 3",
   "language": "python",
   "name": "python3"
  },
  "language_info": {
   "codemirror_mode": {
    "name": "ipython",
    "version": 3
   },
   "file_extension": ".py",
   "mimetype": "text/x-python",
   "name": "python",
   "nbconvert_exporter": "python",
   "pygments_lexer": "ipython3",
   "version": "3.7.6"
  }
 },
 "nbformat": 4,
 "nbformat_minor": 4
}
